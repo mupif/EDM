{
 "cells": [
  {
   "cell_type": "markdown",
   "id": "f5946c97-fb7a-428a-83e5-dc59185177c6",
   "metadata": {},
   "source": [
    "* Test that floats don't get truncated "
   ]
  },
  {
   "cell_type": "code",
   "execution_count": 12,
   "id": "2cd50f0e-e3d0-4784-89af-49593b6de76c",
   "metadata": {},
   "outputs": [],
   "source": [
    "import requests\n",
    "from rich.pretty import pprint\n",
    "from rich import print_json\n",
    "import json\n",
    "\n",
    "# location of the DB (B=base URL for MongoDB, DB=database name)\n",
    "B='http://localhost:8080'\n",
    "DB='dms0'\n",
    "\n",
    "# small wrapper for the REST API\n",
    "def get(p,no_show=False,**kw):\n",
    "    r=requests.get(f'{B}/{p}',params=kw)\n",
    "    if not r.ok: raise RuntimeError(r.text)\n",
    "    data=json.loads(r.text)\n",
    "    if not no_show: pprint(data)\n",
    "    return data\n",
    "def post(p,**kw):\n",
    "    r=requests.post(f'{B}/{p}',json=kw)\n",
    "    if not r.ok: raise RuntimeError(r.text)\n",
    "    return json.loads(r.text)\n",
    "def patch(p,**kw):\n",
    "    r=requests.patch(f'{B}/{p}',json=kw)\n",
    "    if not r.ok: raise RuntimeError(r.text)\n",
    "    return json.loads(r.text)\n"
   ]
  },
  {
   "cell_type": "code",
   "execution_count": 17,
   "id": "eeaa8b2d-724e-4ba9-b5f1-ec6be4b46671",
   "metadata": {},
   "outputs": [
    {
     "data": {
      "text/html": [
       "<pre style=\"white-space:pre;overflow-x:auto;line-height:normal;font-family:Menlo,'DejaVu Sans Mono',consolas,'Courier New',monospace\"><span style=\"font-weight: bold\">{</span>\n",
       "<span style=\"color: #7fbf7f; text-decoration-color: #7fbf7f\">│   </span><span style=\"color: #008000; text-decoration-color: #008000\">'length'</span>: <span style=\"font-weight: bold\">{</span><span style=\"color: #008000; text-decoration-color: #008000\">'value'</span>: <span style=\"color: #008080; text-decoration-color: #008080; font-weight: bold\">1000.0</span>, <span style=\"color: #008000; text-decoration-color: #008000\">'unit'</span>: <span style=\"color: #008000; text-decoration-color: #008000\">'m'</span><span style=\"font-weight: bold\">}</span>,\n",
       "<span style=\"color: #7fbf7f; text-decoration-color: #7fbf7f\">│   </span><span style=\"color: #008000; text-decoration-color: #008000\">'height'</span>: <span style=\"font-weight: bold\">{</span><span style=\"color: #008000; text-decoration-color: #008000\">'value'</span>: <span style=\"color: #008080; text-decoration-color: #008080; font-weight: bold\">0.1234567928314209</span>, <span style=\"color: #008000; text-decoration-color: #008000\">'unit'</span>: <span style=\"color: #008000; text-decoration-color: #008000\">'m'</span><span style=\"font-weight: bold\">}</span>,\n",
       "<span style=\"color: #7fbf7f; text-decoration-color: #7fbf7f\">│   </span><span style=\"color: #008000; text-decoration-color: #008000\">'density'</span>: <span style=\"font-weight: bold\">{</span><span style=\"color: #008000; text-decoration-color: #008000\">'value'</span>: <span style=\"color: #008080; text-decoration-color: #008080; font-weight: bold\">3456.7890167236324</span>, <span style=\"color: #008000; text-decoration-color: #008000\">'unit'</span>: <span style=\"color: #008000; text-decoration-color: #008000\">'kg / m3'</span><span style=\"font-weight: bold\">}</span>\n",
       "<span style=\"font-weight: bold\">}</span>\n",
       "</pre>\n"
      ],
      "text/plain": [
       "\u001b[1m{\u001b[0m\n",
       "\u001b[2;32m│   \u001b[0m\u001b[32m'length'\u001b[0m: \u001b[1m{\u001b[0m\u001b[32m'value'\u001b[0m: \u001b[1;36m1000.0\u001b[0m, \u001b[32m'unit'\u001b[0m: \u001b[32m'm'\u001b[0m\u001b[1m}\u001b[0m,\n",
       "\u001b[2;32m│   \u001b[0m\u001b[32m'height'\u001b[0m: \u001b[1m{\u001b[0m\u001b[32m'value'\u001b[0m: \u001b[1;36m0.1234567928314209\u001b[0m, \u001b[32m'unit'\u001b[0m: \u001b[32m'm'\u001b[0m\u001b[1m}\u001b[0m,\n",
       "\u001b[2;32m│   \u001b[0m\u001b[32m'density'\u001b[0m: \u001b[1m{\u001b[0m\u001b[32m'value'\u001b[0m: \u001b[1;36m3456.7890167236324\u001b[0m, \u001b[32m'unit'\u001b[0m: \u001b[32m'kg / m3'\u001b[0m\u001b[1m}\u001b[0m\n",
       "\u001b[1m}\u001b[0m\n"
      ]
     },
     "metadata": {},
     "output_type": "display_data"
    }
   ],
   "source": [
    "dta={ # Beam \n",
    "    \"length\": { \"value\": 1, \"unit\":\"km\" },\n",
    "    \"height\": { \"value\": 12.3456789, \"unit\":\"cm\" },\n",
    "    \"density\": { \"value\": 3.456789, \"unit\":\"g/cm3\" },\n",
    "}\n",
    "ID=post('dms0/Beam',**dta)\n",
    "b=get(f'dms0/Beam/{ID}',meta=False,tracking=False)\n",
    "assert b['height']['value']>0"
   ]
  },
  {
   "cell_type": "code",
   "execution_count": null,
   "id": "b9f647c4-e7e7-4852-9d31-b048e46e357e",
   "metadata": {},
   "outputs": [],
   "source": []
  }
 ],
 "metadata": {
  "kernelspec": {
   "display_name": "Python 3 (ipykernel)",
   "language": "python",
   "name": "python3"
  },
  "language_info": {
   "codemirror_mode": {
    "name": "ipython",
    "version": 3
   },
   "file_extension": ".py",
   "mimetype": "text/x-python",
   "name": "python",
   "nbconvert_exporter": "python",
   "pygments_lexer": "ipython3",
   "version": "3.10.6"
  }
 },
 "nbformat": 4,
 "nbformat_minor": 5
}
