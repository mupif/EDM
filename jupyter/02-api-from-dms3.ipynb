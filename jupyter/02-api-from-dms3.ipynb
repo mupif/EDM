{
 "cells": [
  {
   "cell_type": "markdown",
   "id": "5d9fdfef-3140-4e04-8363-d74c6ef7751f",
   "metadata": {},
   "source": [
    "# FROZEN!\n",
    "\n",
    "This notebook was an experimentation with the data schema for DMS, it did not use any of the REST API."
   ]
  },
  {
   "cell_type": "code",
   "execution_count": 2,
   "id": "04eab04a-a540-4814-8aa6-5ec4e4129cb2",
   "metadata": {},
   "outputs": [
    {
     "data": {
      "text/html": [
       "<pre style=\"white-space:pre;overflow-x:auto;line-height:normal;font-family:Menlo,'DejaVu Sans Mono',consolas,'Courier New',monospace\"><span style=\"font-weight: bold\">{</span>\n",
       "<span style=\"color: #7fbf7f; text-decoration-color: #7fbf7f\">│   </span><span style=\"color: #008000; text-decoration-color: #008000\">'Beam'</span>: <span style=\"font-weight: bold\">{</span>\n",
       "<span style=\"color: #7fbf7f; text-decoration-color: #7fbf7f\">│   │   </span><span style=\"color: #008000; text-decoration-color: #008000\">'cs'</span>: <span style=\"font-weight: bold\">{</span><span style=\"color: #008000; text-decoration-color: #008000\">'link'</span>: <span style=\"color: #008000; text-decoration-color: #008000\">'CrossSection'</span><span style=\"font-weight: bold\">}</span>,\n",
       "<span style=\"color: #7fbf7f; text-decoration-color: #7fbf7f\">│   │   </span><span style=\"color: #008000; text-decoration-color: #008000\">'length'</span>: <span style=\"font-weight: bold\">{</span><span style=\"color: #008000; text-decoration-color: #008000\">'unit'</span>: <span style=\"color: #008000; text-decoration-color: #008000\">'m'</span><span style=\"font-weight: bold\">}</span>,\n",
       "<span style=\"color: #7fbf7f; text-decoration-color: #7fbf7f\">│   │   </span><span style=\"color: #008000; text-decoration-color: #008000\">'height'</span>: <span style=\"font-weight: bold\">{</span><span style=\"color: #008000; text-decoration-color: #008000\">'unit'</span>: <span style=\"color: #008000; text-decoration-color: #008000\">'m'</span><span style=\"font-weight: bold\">}</span>,\n",
       "<span style=\"color: #7fbf7f; text-decoration-color: #7fbf7f\">│   │   </span><span style=\"color: #008000; text-decoration-color: #008000\">'density'</span>: <span style=\"font-weight: bold\">{</span><span style=\"color: #008000; text-decoration-color: #008000\">'unit'</span>: <span style=\"color: #008000; text-decoration-color: #008000\">'kg/m3'</span><span style=\"font-weight: bold\">}</span>,\n",
       "<span style=\"color: #7fbf7f; text-decoration-color: #7fbf7f\">│   │   </span><span style=\"color: #008000; text-decoration-color: #008000\">'bc_0'</span>: <span style=\"font-weight: bold\">{</span><span style=\"color: #008000; text-decoration-color: #008000\">'shape'</span>: <span style=\"font-weight: bold\">[</span><span style=\"color: #008080; text-decoration-color: #008080; font-weight: bold\">3</span><span style=\"font-weight: bold\">]</span>, <span style=\"color: #008000; text-decoration-color: #008000\">'dtype'</span>: <span style=\"color: #008000; text-decoration-color: #008000\">'?'</span><span style=\"font-weight: bold\">}</span>,\n",
       "<span style=\"color: #7fbf7f; text-decoration-color: #7fbf7f\">│   │   </span><span style=\"color: #008000; text-decoration-color: #008000\">'bc_1'</span>: <span style=\"font-weight: bold\">{</span><span style=\"color: #008000; text-decoration-color: #008000\">'shape'</span>: <span style=\"font-weight: bold\">[</span><span style=\"color: #008080; text-decoration-color: #008080; font-weight: bold\">3</span><span style=\"font-weight: bold\">]</span>, <span style=\"color: #008000; text-decoration-color: #008000\">'dtype'</span>: <span style=\"color: #008000; text-decoration-color: #008000\">'?'</span><span style=\"font-weight: bold\">}</span>\n",
       "<span style=\"color: #7fbf7f; text-decoration-color: #7fbf7f\">│   </span><span style=\"font-weight: bold\">}</span>,\n",
       "<span style=\"color: #7fbf7f; text-decoration-color: #7fbf7f\">│   </span><span style=\"color: #008000; text-decoration-color: #008000\">'CrossSection'</span>: <span style=\"font-weight: bold\">{</span><span style=\"color: #008000; text-decoration-color: #008000\">'rve'</span>: <span style=\"font-weight: bold\">{</span><span style=\"color: #008000; text-decoration-color: #008000\">'link'</span>: <span style=\"color: #008000; text-decoration-color: #008000\">'ConcreteRVE'</span><span style=\"font-weight: bold\">}</span>, <span style=\"color: #008000; text-decoration-color: #008000\">'rvePositions'</span>: <span style=\"font-weight: bold\">{</span><span style=\"color: #008000; text-decoration-color: #008000\">'shape'</span>: <span style=\"font-weight: bold\">[</span><span style=\"color: #008080; text-decoration-color: #008080; font-weight: bold\">-1</span>, <span style=\"color: #008080; text-decoration-color: #008080; font-weight: bold\">3</span><span style=\"font-weight: bold\">]</span>, <span style=\"color: #008000; text-decoration-color: #008000\">'unit'</span>: <span style=\"color: #008000; text-decoration-color: #008000\">'m'</span><span style=\"font-weight: bold\">}}</span>,\n",
       "<span style=\"color: #7fbf7f; text-decoration-color: #7fbf7f\">│   </span><span style=\"color: #008000; text-decoration-color: #008000\">'ConcreteRVE'</span>: <span style=\"font-weight: bold\">{</span>\n",
       "<span style=\"color: #7fbf7f; text-decoration-color: #7fbf7f\">│   │   </span><span style=\"color: #008000; text-decoration-color: #008000\">'ct'</span>: <span style=\"font-weight: bold\">{</span><span style=\"color: #008000; text-decoration-color: #008000\">'link'</span>: <span style=\"color: #008000; text-decoration-color: #008000\">'CTScan'</span><span style=\"font-weight: bold\">}</span>,\n",
       "<span style=\"color: #7fbf7f; text-decoration-color: #7fbf7f\">│   │   </span><span style=\"color: #008000; text-decoration-color: #008000\">'origin'</span>: <span style=\"font-weight: bold\">{</span><span style=\"color: #008000; text-decoration-color: #008000\">'shape'</span>: <span style=\"font-weight: bold\">[</span><span style=\"color: #008080; text-decoration-color: #008080; font-weight: bold\">3</span><span style=\"font-weight: bold\">]</span>, <span style=\"color: #008000; text-decoration-color: #008000\">'unit'</span>: <span style=\"color: #008000; text-decoration-color: #008000\">'m'</span><span style=\"font-weight: bold\">}</span>,\n",
       "<span style=\"color: #7fbf7f; text-decoration-color: #7fbf7f\">│   │   </span><span style=\"color: #008000; text-decoration-color: #008000\">'size'</span>: <span style=\"font-weight: bold\">{</span><span style=\"color: #008000; text-decoration-color: #008000\">'shape'</span>: <span style=\"font-weight: bold\">[</span><span style=\"color: #008080; text-decoration-color: #008080; font-weight: bold\">3</span><span style=\"font-weight: bold\">]</span>, <span style=\"color: #008000; text-decoration-color: #008000\">'unit'</span>: <span style=\"color: #008000; text-decoration-color: #008000\">'um'</span><span style=\"font-weight: bold\">}</span>,\n",
       "<span style=\"color: #7fbf7f; text-decoration-color: #7fbf7f\">│   │   </span><span style=\"color: #008000; text-decoration-color: #008000\">'materials'</span>: <span style=\"font-weight: bold\">{</span><span style=\"color: #008000; text-decoration-color: #008000\">'link'</span>: <span style=\"color: #008000; text-decoration-color: #008000\">'MaterialRecord'</span>, <span style=\"color: #008000; text-decoration-color: #008000\">'shape'</span>: <span style=\"font-weight: bold\">[</span><span style=\"color: #008080; text-decoration-color: #008080; font-weight: bold\">-1</span><span style=\"font-weight: bold\">]}</span>\n",
       "<span style=\"color: #7fbf7f; text-decoration-color: #7fbf7f\">│   </span><span style=\"font-weight: bold\">}</span>,\n",
       "<span style=\"color: #7fbf7f; text-decoration-color: #7fbf7f\">│   </span><span style=\"color: #008000; text-decoration-color: #008000\">'CTScan'</span>: <span style=\"font-weight: bold\">{</span><span style=\"color: #008000; text-decoration-color: #008000\">'id'</span>: <span style=\"font-weight: bold\">{</span><span style=\"color: #008000; text-decoration-color: #008000\">'dtype'</span>: <span style=\"color: #008000; text-decoration-color: #008000\">'str'</span><span style=\"font-weight: bold\">}</span>, <span style=\"color: #008000; text-decoration-color: #008000\">'image'</span>: <span style=\"font-weight: bold\">{</span><span style=\"color: #008000; text-decoration-color: #008000\">'dtype'</span>: <span style=\"color: #008000; text-decoration-color: #008000\">'bytes'</span>, <span style=\"color: #008000; text-decoration-color: #008000\">'externalize'</span>: <span style=\"color: #008000; text-decoration-color: #008000\">'true'</span><span style=\"font-weight: bold\">}}</span>,\n",
       "<span style=\"color: #7fbf7f; text-decoration-color: #7fbf7f\">│   </span><span style=\"color: #008000; text-decoration-color: #008000\">'BeamState'</span>: <span style=\"font-weight: bold\">{</span>\n",
       "<span style=\"color: #7fbf7f; text-decoration-color: #7fbf7f\">│   │   </span><span style=\"color: #008000; text-decoration-color: #008000\">'beam'</span>: <span style=\"font-weight: bold\">{</span><span style=\"color: #008000; text-decoration-color: #008000\">'link'</span>: <span style=\"color: #008000; text-decoration-color: #008000\">'Beam'</span><span style=\"font-weight: bold\">}</span>,\n",
       "<span style=\"color: #7fbf7f; text-decoration-color: #7fbf7f\">│   │   </span><span style=\"color: #008000; text-decoration-color: #008000\">'cs'</span>: <span style=\"font-weight: bold\">{</span><span style=\"color: #008000; text-decoration-color: #008000\">'link'</span>: <span style=\"color: #008000; text-decoration-color: #008000\">'CrossSection'</span><span style=\"font-weight: bold\">}</span>,\n",
       "<span style=\"color: #7fbf7f; text-decoration-color: #7fbf7f\">│   │   </span><span style=\"color: #008000; text-decoration-color: #008000\">'npointz'</span>: <span style=\"font-weight: bold\">{</span><span style=\"color: #008000; text-decoration-color: #008000\">'dtype'</span>: <span style=\"color: #008000; text-decoration-color: #008000\">'i'</span><span style=\"font-weight: bold\">}</span>,\n",
       "<span style=\"color: #7fbf7f; text-decoration-color: #7fbf7f\">│   │   </span><span style=\"color: #008000; text-decoration-color: #008000\">'csState'</span>: <span style=\"font-weight: bold\">{</span><span style=\"color: #008000; text-decoration-color: #008000\">'link'</span>: <span style=\"color: #008000; text-decoration-color: #008000\">'CrossSectionState'</span>, <span style=\"color: #008000; text-decoration-color: #008000\">'shape'</span>: <span style=\"font-weight: bold\">[</span><span style=\"color: #008080; text-decoration-color: #008080; font-weight: bold\">-1</span><span style=\"font-weight: bold\">]}</span>\n",
       "<span style=\"color: #7fbf7f; text-decoration-color: #7fbf7f\">│   </span><span style=\"font-weight: bold\">}</span>,\n",
       "<span style=\"color: #7fbf7f; text-decoration-color: #7fbf7f\">│   </span><span style=\"color: #008000; text-decoration-color: #008000\">'CrossSectionState'</span>: <span style=\"font-weight: bold\">{</span>\n",
       "<span style=\"color: #7fbf7f; text-decoration-color: #7fbf7f\">│   │   </span><span style=\"color: #008000; text-decoration-color: #008000\">'rveStates'</span>: <span style=\"font-weight: bold\">{</span><span style=\"color: #008000; text-decoration-color: #008000\">'link'</span>: <span style=\"color: #008000; text-decoration-color: #008000\">'ConcreteRVEState'</span>, <span style=\"color: #008000; text-decoration-color: #008000\">'shape'</span>: <span style=\"font-weight: bold\">[</span><span style=\"color: #008080; text-decoration-color: #008080; font-weight: bold\">-1</span><span style=\"font-weight: bold\">]}</span>,\n",
       "<span style=\"color: #7fbf7f; text-decoration-color: #7fbf7f\">│   │   </span><span style=\"color: #008000; text-decoration-color: #008000\">'bendingMoment'</span>: <span style=\"font-weight: bold\">{</span><span style=\"color: #008000; text-decoration-color: #008000\">'unit'</span>: <span style=\"color: #008000; text-decoration-color: #008000\">'kN*m'</span><span style=\"font-weight: bold\">}</span>,\n",
       "<span style=\"color: #7fbf7f; text-decoration-color: #7fbf7f\">│   │   </span><span style=\"color: #008000; text-decoration-color: #008000\">'kappa'</span>: <span style=\"font-weight: bold\">{}</span>,\n",
       "<span style=\"color: #7fbf7f; text-decoration-color: #7fbf7f\">│   │   </span><span style=\"color: #008000; text-decoration-color: #008000\">'eps_axial'</span>: <span style=\"font-weight: bold\">{</span><span style=\"color: #008000; text-decoration-color: #008000\">'unit'</span>: <span style=\"color: #008000; text-decoration-color: #008000\">'um/m'</span><span style=\"font-weight: bold\">}</span>\n",
       "<span style=\"color: #7fbf7f; text-decoration-color: #7fbf7f\">│   </span><span style=\"font-weight: bold\">}</span>,\n",
       "<span style=\"color: #7fbf7f; text-decoration-color: #7fbf7f\">│   </span><span style=\"color: #008000; text-decoration-color: #008000\">'ConcreteRVEState'</span>: <span style=\"font-weight: bold\">{</span>\n",
       "<span style=\"color: #7fbf7f; text-decoration-color: #7fbf7f\">│   │   </span><span style=\"color: #008000; text-decoration-color: #008000\">'rve'</span>: <span style=\"font-weight: bold\">{</span><span style=\"color: #008000; text-decoration-color: #008000\">'link'</span>: <span style=\"color: #008000; text-decoration-color: #008000\">'ConcreteRVE'</span><span style=\"font-weight: bold\">}</span>,\n",
       "<span style=\"color: #7fbf7f; text-decoration-color: #7fbf7f\">│   │   </span><span style=\"color: #008000; text-decoration-color: #008000\">'sigmaHom'</span>: <span style=\"font-weight: bold\">{</span><span style=\"color: #008000; text-decoration-color: #008000\">'unit'</span>: <span style=\"color: #008000; text-decoration-color: #008000\">'MPa'</span><span style=\"font-weight: bold\">}</span>,\n",
       "<span style=\"color: #7fbf7f; text-decoration-color: #7fbf7f\">│   │   </span><span style=\"color: #008000; text-decoration-color: #008000\">'epsHom'</span>: <span style=\"font-weight: bold\">{</span><span style=\"color: #008000; text-decoration-color: #008000\">'unit'</span>: <span style=\"color: #008000; text-decoration-color: #008000\">'um/m'</span><span style=\"font-weight: bold\">}</span>,\n",
       "<span style=\"color: #7fbf7f; text-decoration-color: #7fbf7f\">│   │   </span><span style=\"color: #008000; text-decoration-color: #008000\">'stiffness'</span>: <span style=\"font-weight: bold\">{</span><span style=\"color: #008000; text-decoration-color: #008000\">'unit'</span>: <span style=\"color: #008000; text-decoration-color: #008000\">'MPa'</span><span style=\"font-weight: bold\">}</span>,\n",
       "<span style=\"color: #7fbf7f; text-decoration-color: #7fbf7f\">│   │   </span><span style=\"color: #008000; text-decoration-color: #008000\">'eps0hom'</span>: <span style=\"font-weight: bold\">{</span><span style=\"color: #008000; text-decoration-color: #008000\">'unit'</span>: <span style=\"color: #008000; text-decoration-color: #008000\">'um/m'</span><span style=\"font-weight: bold\">}</span>\n",
       "<span style=\"color: #7fbf7f; text-decoration-color: #7fbf7f\">│   </span><span style=\"font-weight: bold\">}</span>,\n",
       "<span style=\"color: #7fbf7f; text-decoration-color: #7fbf7f\">│   </span><span style=\"color: #008000; text-decoration-color: #008000\">'MaterialRecord'</span>: <span style=\"font-weight: bold\">{</span><span style=\"color: #008000; text-decoration-color: #008000\">'name'</span>: <span style=\"font-weight: bold\">{</span><span style=\"color: #008000; text-decoration-color: #008000\">'dtype'</span>: <span style=\"color: #008000; text-decoration-color: #008000\">'str'</span><span style=\"font-weight: bold\">}</span>, <span style=\"color: #008000; text-decoration-color: #008000\">'props'</span>: <span style=\"font-weight: bold\">{</span><span style=\"color: #008000; text-decoration-color: #008000\">'dtype'</span>: <span style=\"color: #008000; text-decoration-color: #008000\">'object'</span><span style=\"font-weight: bold\">}}</span>\n",
       "<span style=\"font-weight: bold\">}</span>\n",
       "</pre>\n"
      ],
      "text/plain": [
       "\u001b[1m{\u001b[0m\n",
       "\u001b[2;32m│   \u001b[0m\u001b[32m'Beam'\u001b[0m: \u001b[1m{\u001b[0m\n",
       "\u001b[2;32m│   │   \u001b[0m\u001b[32m'cs'\u001b[0m: \u001b[1m{\u001b[0m\u001b[32m'link'\u001b[0m: \u001b[32m'CrossSection'\u001b[0m\u001b[1m}\u001b[0m,\n",
       "\u001b[2;32m│   │   \u001b[0m\u001b[32m'length'\u001b[0m: \u001b[1m{\u001b[0m\u001b[32m'unit'\u001b[0m: \u001b[32m'm'\u001b[0m\u001b[1m}\u001b[0m,\n",
       "\u001b[2;32m│   │   \u001b[0m\u001b[32m'height'\u001b[0m: \u001b[1m{\u001b[0m\u001b[32m'unit'\u001b[0m: \u001b[32m'm'\u001b[0m\u001b[1m}\u001b[0m,\n",
       "\u001b[2;32m│   │   \u001b[0m\u001b[32m'density'\u001b[0m: \u001b[1m{\u001b[0m\u001b[32m'unit'\u001b[0m: \u001b[32m'kg/m3'\u001b[0m\u001b[1m}\u001b[0m,\n",
       "\u001b[2;32m│   │   \u001b[0m\u001b[32m'bc_0'\u001b[0m: \u001b[1m{\u001b[0m\u001b[32m'shape'\u001b[0m: \u001b[1m[\u001b[0m\u001b[1;36m3\u001b[0m\u001b[1m]\u001b[0m, \u001b[32m'dtype'\u001b[0m: \u001b[32m'?'\u001b[0m\u001b[1m}\u001b[0m,\n",
       "\u001b[2;32m│   │   \u001b[0m\u001b[32m'bc_1'\u001b[0m: \u001b[1m{\u001b[0m\u001b[32m'shape'\u001b[0m: \u001b[1m[\u001b[0m\u001b[1;36m3\u001b[0m\u001b[1m]\u001b[0m, \u001b[32m'dtype'\u001b[0m: \u001b[32m'?'\u001b[0m\u001b[1m}\u001b[0m\n",
       "\u001b[2;32m│   \u001b[0m\u001b[1m}\u001b[0m,\n",
       "\u001b[2;32m│   \u001b[0m\u001b[32m'CrossSection'\u001b[0m: \u001b[1m{\u001b[0m\u001b[32m'rve'\u001b[0m: \u001b[1m{\u001b[0m\u001b[32m'link'\u001b[0m: \u001b[32m'ConcreteRVE'\u001b[0m\u001b[1m}\u001b[0m, \u001b[32m'rvePositions'\u001b[0m: \u001b[1m{\u001b[0m\u001b[32m'shape'\u001b[0m: \u001b[1m[\u001b[0m\u001b[1;36m-1\u001b[0m, \u001b[1;36m3\u001b[0m\u001b[1m]\u001b[0m, \u001b[32m'unit'\u001b[0m: \u001b[32m'm'\u001b[0m\u001b[1m}\u001b[0m\u001b[1m}\u001b[0m,\n",
       "\u001b[2;32m│   \u001b[0m\u001b[32m'ConcreteRVE'\u001b[0m: \u001b[1m{\u001b[0m\n",
       "\u001b[2;32m│   │   \u001b[0m\u001b[32m'ct'\u001b[0m: \u001b[1m{\u001b[0m\u001b[32m'link'\u001b[0m: \u001b[32m'CTScan'\u001b[0m\u001b[1m}\u001b[0m,\n",
       "\u001b[2;32m│   │   \u001b[0m\u001b[32m'origin'\u001b[0m: \u001b[1m{\u001b[0m\u001b[32m'shape'\u001b[0m: \u001b[1m[\u001b[0m\u001b[1;36m3\u001b[0m\u001b[1m]\u001b[0m, \u001b[32m'unit'\u001b[0m: \u001b[32m'm'\u001b[0m\u001b[1m}\u001b[0m,\n",
       "\u001b[2;32m│   │   \u001b[0m\u001b[32m'size'\u001b[0m: \u001b[1m{\u001b[0m\u001b[32m'shape'\u001b[0m: \u001b[1m[\u001b[0m\u001b[1;36m3\u001b[0m\u001b[1m]\u001b[0m, \u001b[32m'unit'\u001b[0m: \u001b[32m'um'\u001b[0m\u001b[1m}\u001b[0m,\n",
       "\u001b[2;32m│   │   \u001b[0m\u001b[32m'materials'\u001b[0m: \u001b[1m{\u001b[0m\u001b[32m'link'\u001b[0m: \u001b[32m'MaterialRecord'\u001b[0m, \u001b[32m'shape'\u001b[0m: \u001b[1m[\u001b[0m\u001b[1;36m-1\u001b[0m\u001b[1m]\u001b[0m\u001b[1m}\u001b[0m\n",
       "\u001b[2;32m│   \u001b[0m\u001b[1m}\u001b[0m,\n",
       "\u001b[2;32m│   \u001b[0m\u001b[32m'CTScan'\u001b[0m: \u001b[1m{\u001b[0m\u001b[32m'id'\u001b[0m: \u001b[1m{\u001b[0m\u001b[32m'dtype'\u001b[0m: \u001b[32m'str'\u001b[0m\u001b[1m}\u001b[0m, \u001b[32m'image'\u001b[0m: \u001b[1m{\u001b[0m\u001b[32m'dtype'\u001b[0m: \u001b[32m'bytes'\u001b[0m, \u001b[32m'externalize'\u001b[0m: \u001b[32m'true'\u001b[0m\u001b[1m}\u001b[0m\u001b[1m}\u001b[0m,\n",
       "\u001b[2;32m│   \u001b[0m\u001b[32m'BeamState'\u001b[0m: \u001b[1m{\u001b[0m\n",
       "\u001b[2;32m│   │   \u001b[0m\u001b[32m'beam'\u001b[0m: \u001b[1m{\u001b[0m\u001b[32m'link'\u001b[0m: \u001b[32m'Beam'\u001b[0m\u001b[1m}\u001b[0m,\n",
       "\u001b[2;32m│   │   \u001b[0m\u001b[32m'cs'\u001b[0m: \u001b[1m{\u001b[0m\u001b[32m'link'\u001b[0m: \u001b[32m'CrossSection'\u001b[0m\u001b[1m}\u001b[0m,\n",
       "\u001b[2;32m│   │   \u001b[0m\u001b[32m'npointz'\u001b[0m: \u001b[1m{\u001b[0m\u001b[32m'dtype'\u001b[0m: \u001b[32m'i'\u001b[0m\u001b[1m}\u001b[0m,\n",
       "\u001b[2;32m│   │   \u001b[0m\u001b[32m'csState'\u001b[0m: \u001b[1m{\u001b[0m\u001b[32m'link'\u001b[0m: \u001b[32m'CrossSectionState'\u001b[0m, \u001b[32m'shape'\u001b[0m: \u001b[1m[\u001b[0m\u001b[1;36m-1\u001b[0m\u001b[1m]\u001b[0m\u001b[1m}\u001b[0m\n",
       "\u001b[2;32m│   \u001b[0m\u001b[1m}\u001b[0m,\n",
       "\u001b[2;32m│   \u001b[0m\u001b[32m'CrossSectionState'\u001b[0m: \u001b[1m{\u001b[0m\n",
       "\u001b[2;32m│   │   \u001b[0m\u001b[32m'rveStates'\u001b[0m: \u001b[1m{\u001b[0m\u001b[32m'link'\u001b[0m: \u001b[32m'ConcreteRVEState'\u001b[0m, \u001b[32m'shape'\u001b[0m: \u001b[1m[\u001b[0m\u001b[1;36m-1\u001b[0m\u001b[1m]\u001b[0m\u001b[1m}\u001b[0m,\n",
       "\u001b[2;32m│   │   \u001b[0m\u001b[32m'bendingMoment'\u001b[0m: \u001b[1m{\u001b[0m\u001b[32m'unit'\u001b[0m: \u001b[32m'kN*m'\u001b[0m\u001b[1m}\u001b[0m,\n",
       "\u001b[2;32m│   │   \u001b[0m\u001b[32m'kappa'\u001b[0m: \u001b[1m{\u001b[0m\u001b[1m}\u001b[0m,\n",
       "\u001b[2;32m│   │   \u001b[0m\u001b[32m'eps_axial'\u001b[0m: \u001b[1m{\u001b[0m\u001b[32m'unit'\u001b[0m: \u001b[32m'um/m'\u001b[0m\u001b[1m}\u001b[0m\n",
       "\u001b[2;32m│   \u001b[0m\u001b[1m}\u001b[0m,\n",
       "\u001b[2;32m│   \u001b[0m\u001b[32m'ConcreteRVEState'\u001b[0m: \u001b[1m{\u001b[0m\n",
       "\u001b[2;32m│   │   \u001b[0m\u001b[32m'rve'\u001b[0m: \u001b[1m{\u001b[0m\u001b[32m'link'\u001b[0m: \u001b[32m'ConcreteRVE'\u001b[0m\u001b[1m}\u001b[0m,\n",
       "\u001b[2;32m│   │   \u001b[0m\u001b[32m'sigmaHom'\u001b[0m: \u001b[1m{\u001b[0m\u001b[32m'unit'\u001b[0m: \u001b[32m'MPa'\u001b[0m\u001b[1m}\u001b[0m,\n",
       "\u001b[2;32m│   │   \u001b[0m\u001b[32m'epsHom'\u001b[0m: \u001b[1m{\u001b[0m\u001b[32m'unit'\u001b[0m: \u001b[32m'um/m'\u001b[0m\u001b[1m}\u001b[0m,\n",
       "\u001b[2;32m│   │   \u001b[0m\u001b[32m'stiffness'\u001b[0m: \u001b[1m{\u001b[0m\u001b[32m'unit'\u001b[0m: \u001b[32m'MPa'\u001b[0m\u001b[1m}\u001b[0m,\n",
       "\u001b[2;32m│   │   \u001b[0m\u001b[32m'eps0hom'\u001b[0m: \u001b[1m{\u001b[0m\u001b[32m'unit'\u001b[0m: \u001b[32m'um/m'\u001b[0m\u001b[1m}\u001b[0m\n",
       "\u001b[2;32m│   \u001b[0m\u001b[1m}\u001b[0m,\n",
       "\u001b[2;32m│   \u001b[0m\u001b[32m'MaterialRecord'\u001b[0m: \u001b[1m{\u001b[0m\u001b[32m'name'\u001b[0m: \u001b[1m{\u001b[0m\u001b[32m'dtype'\u001b[0m: \u001b[32m'str'\u001b[0m\u001b[1m}\u001b[0m, \u001b[32m'props'\u001b[0m: \u001b[1m{\u001b[0m\u001b[32m'dtype'\u001b[0m: \u001b[32m'object'\u001b[0m\u001b[1m}\u001b[0m\u001b[1m}\u001b[0m\n",
       "\u001b[1m}\u001b[0m\n"
      ]
     },
     "metadata": {},
     "output_type": "display_data"
    },
    {
     "name": "stdout",
     "output_type": "stream",
     "text": [
      "Beam={'cs': ItemSchema(dtype='f', unit=None, shape=[], link='CrossSection'), 'length': ItemSchema(dtype='f', unit='m', shape=[], link=None), 'height': ItemSchema(dtype='f', unit='m', shape=[], link=None), 'density': ItemSchema(dtype='f', unit='kg/m3', shape=[], link=None), 'bc_0': ItemSchema(dtype='?', unit=None, shape=[3], link=None), 'bc_1': ItemSchema(dtype='?', unit=None, shape=[3], link=None)} CrossSection={'rve': ItemSchema(dtype='f', unit=None, shape=[], link='ConcreteRVE'), 'rvePositions': ItemSchema(dtype='f', unit='m', shape=[-1, 3], link=None)} ConcreteRVE={'ct': ItemSchema(dtype='f', unit=None, shape=[], link='CTScan'), 'origin': ItemSchema(dtype='f', unit='m', shape=[3], link=None), 'size': ItemSchema(dtype='f', unit='um', shape=[3], link=None), 'materials': ItemSchema(dtype='f', unit=None, shape=[-1], link='MaterialRecord')} CTScan={'id': ItemSchema(dtype='str', unit=None, shape=[], link=None), 'image': ItemSchema(dtype='bytes', unit=None, shape=[], link=None)} BeamState={'beam': ItemSchema(dtype='f', unit=None, shape=[], link='Beam'), 'cs': ItemSchema(dtype='f', unit=None, shape=[], link='CrossSection'), 'npointz': ItemSchema(dtype='i', unit=None, shape=[], link=None), 'csState': ItemSchema(dtype='f', unit=None, shape=[-1], link='CrossSectionState')} CrossSectionState={'rveStates': ItemSchema(dtype='f', unit=None, shape=[-1], link='ConcreteRVEState'), 'bendingMoment': ItemSchema(dtype='f', unit='kN*m', shape=[], link=None), 'kappa': ItemSchema(dtype='f', unit=None, shape=[], link=None), 'eps_axial': ItemSchema(dtype='f', unit='um/m', shape=[], link=None)} ConcreteRVEState={'rve': ItemSchema(dtype='f', unit=None, shape=[], link='ConcreteRVE'), 'sigmaHom': ItemSchema(dtype='f', unit='MPa', shape=[], link=None), 'epsHom': ItemSchema(dtype='f', unit='um/m', shape=[], link=None), 'stiffness': ItemSchema(dtype='f', unit='MPa', shape=[], link=None), 'eps0hom': ItemSchema(dtype='f', unit='um/m', shape=[], link=None)} MaterialRecord={'name': ItemSchema(dtype='str', unit=None, shape=[], link=None), 'props': ItemSchema(dtype='object', unit=None, shape=[], link=None)}\n",
      "634e8ab027f7ff9213e232e2\n",
      "(('MaterialRecord', '634e8ab027f7ff9213e232df'), [('name', None)])\n",
      "(('ConcreteRVE', '634e8ab027f7ff9213e232e2'), None)\n"
     ]
    },
    {
     "data": {
      "text/html": [
       "<pre style=\"white-space:pre;overflow-x:auto;line-height:normal;font-family:Menlo,'DejaVu Sans Mono',consolas,'Courier New',monospace\"><span style=\"font-weight: bold\">{</span><span style=\"color: #008000; text-decoration-color: #008000\">'name'</span>: <span style=\"color: #008000; text-decoration-color: #008000\">'mat2'</span>, <span style=\"color: #008000; text-decoration-color: #008000\">'props'</span>: <span style=\"font-weight: bold\">{</span><span style=\"color: #008000; text-decoration-color: #008000\">'origin'</span>: <span style=\"color: #008000; text-decoration-color: #008000\">'DE'</span><span style=\"font-weight: bold\">}</span>, <span style=\"color: #008000; text-decoration-color: #008000\">'_id'</span>: <span style=\"color: #008000; text-decoration-color: #008000\">'634e8ab027f7ff9213e232e0'</span><span style=\"font-weight: bold\">}</span>\n",
       "</pre>\n"
      ],
      "text/plain": [
       "\u001b[1m{\u001b[0m\u001b[32m'name'\u001b[0m: \u001b[32m'mat2'\u001b[0m, \u001b[32m'props'\u001b[0m: \u001b[1m{\u001b[0m\u001b[32m'origin'\u001b[0m: \u001b[32m'DE'\u001b[0m\u001b[1m}\u001b[0m, \u001b[32m'_id'\u001b[0m: \u001b[32m'634e8ab027f7ff9213e232e0'\u001b[0m\u001b[1m}\u001b[0m\n"
      ]
     },
     "metadata": {},
     "output_type": "display_data"
    },
    {
     "data": {
      "text/html": [
       "<pre style=\"white-space:pre;overflow-x:auto;line-height:normal;font-family:Menlo,'DejaVu Sans Mono',consolas,'Courier New',monospace\"><span style=\"color: #008000; text-decoration-color: #008000\">'mat2'</span>\n",
       "</pre>\n"
      ],
      "text/plain": [
       "\u001b[32m'mat2'\u001b[0m\n"
      ]
     },
     "metadata": {},
     "output_type": "display_data"
    },
    {
     "data": {
      "text/html": [
       "<pre style=\"white-space:pre;overflow-x:auto;line-height:normal;font-family:Menlo,'DejaVu Sans Mono',consolas,'Courier New',monospace\"><span style=\"font-weight: bold\">{</span><span style=\"color: #008000; text-decoration-color: #008000\">'value'</span>: <span style=\"font-weight: bold\">[</span><span style=\"color: #008080; text-decoration-color: #008080; font-weight: bold\">0.0010000000474974513</span>, <span style=\"color: #008080; text-decoration-color: #008080; font-weight: bold\">0.0020000000949949026</span>, <span style=\"color: #008080; text-decoration-color: #008080; font-weight: bold\">0.003000000026077032</span><span style=\"font-weight: bold\">]</span>, <span style=\"color: #008000; text-decoration-color: #008000\">'unit'</span>: <span style=\"color: #008000; text-decoration-color: #008000\">'m'</span><span style=\"font-weight: bold\">}</span>\n",
       "</pre>\n"
      ],
      "text/plain": [
       "\u001b[1m{\u001b[0m\u001b[32m'value'\u001b[0m: \u001b[1m[\u001b[0m\u001b[1;36m0.0010000000474974513\u001b[0m, \u001b[1;36m0.0020000000949949026\u001b[0m, \u001b[1;36m0.003000000026077032\u001b[0m\u001b[1m]\u001b[0m, \u001b[32m'unit'\u001b[0m: \u001b[32m'm'\u001b[0m\u001b[1m}\u001b[0m\n"
      ]
     },
     "metadata": {},
     "output_type": "display_data"
    },
    {
     "name": "stdout",
     "output_type": "stream",
     "text": [
      "['Beam', 'CrossSection', 'ConcreteRVE', 'CTScan', 'BeamState', 'CrossSectionState', 'ConcreteRVEState', 'MaterialRecord']\n",
      "Beam []\n",
      "CrossSection []\n",
      "ConcreteRVE ['634d6683129a38509f6a9cb0', '634d676b129a38509f6a9cb4', '634d6c9d129a38509f6a9cb8', '634d6ca0129a38509f6a9cbe', '634e592857fa21906826e7b0', '634e652a57fa21906826e7b6', '634e68d357fa21906826e7ba', '634e6bd557fa21906826e7be', '634e6c0457fa21906826e7c2', '634e6c5257fa21906826e7c6', '634e6c8557fa21906826e7ca', '634e745e57fa21906826e7ce', '634e750757fa21906826e7d2', '634e751857fa21906826e7d6', '634e751b57fa21906826e7da', '634e754b57fa21906826e7de', '634e76a957fa21906826e7e2', '634e76c557fa21906826e7e6', '634e789457fa21906826e7ea', '634e87195c36316672d9ebba', '634e8723423442b170a77294', '634e8787966700a3e4433b8f', '634e8925fd8e54e2e956d031', '634e8927701a1c4974f433f8', '634e89a8881636cdbe484339', '634e8aa027f7ff9213e232de', '634e8ab027f7ff9213e232e2']\n",
      "CTScan ['634d6683129a38509f6a9caf', '634d676b129a38509f6a9cb3', '634d6c9d129a38509f6a9cb7', '634d6ca0129a38509f6a9cbd', '634e592857fa21906826e7af', '634e652a57fa21906826e7b5', '634e68d357fa21906826e7b9', '634e6bd557fa21906826e7bd', '634e6c0457fa21906826e7c1', '634e6c5257fa21906826e7c5', '634e6c8557fa21906826e7c9', '634e745e57fa21906826e7cd', '634e750757fa21906826e7d1', '634e751857fa21906826e7d5', '634e751b57fa21906826e7d9', '634e754b57fa21906826e7dd', '634e76a957fa21906826e7e1', '634e76c557fa21906826e7e5', '634e789457fa21906826e7e9', '634e87195c36316672d9ebb9', '634e8723423442b170a77293', '634e8787966700a3e4433b8e', '634e8925fd8e54e2e956d030', '634e8927701a1c4974f433f7', '634e89a8881636cdbe484338', '634e8aa027f7ff9213e232dd', '634e8ab027f7ff9213e232e1']\n",
      "BeamState []\n",
      "CrossSectionState []\n",
      "ConcreteRVEState []\n",
      "MaterialRecord ['634d6683129a38509f6a9cad', '634d6683129a38509f6a9cae', '634d676b129a38509f6a9cb1', '634d676b129a38509f6a9cb2', '634d6c9d129a38509f6a9cb5', '634d6c9d129a38509f6a9cb6', '634d6ca0129a38509f6a9cbb', '634d6ca0129a38509f6a9cbc', '634e592857fa21906826e7ad', '634e592857fa21906826e7ae', '634e652a57fa21906826e7b3', '634e652a57fa21906826e7b4', '634e68d357fa21906826e7b7', '634e68d357fa21906826e7b8', '634e6bd557fa21906826e7bb', '634e6bd557fa21906826e7bc', '634e6c0457fa21906826e7bf', '634e6c0457fa21906826e7c0', '634e6c5257fa21906826e7c3', '634e6c5257fa21906826e7c4', '634e6c8557fa21906826e7c7', '634e6c8557fa21906826e7c8', '634e745e57fa21906826e7cb', '634e745e57fa21906826e7cc', '634e750757fa21906826e7cf', '634e750757fa21906826e7d0', '634e751857fa21906826e7d3', '634e751857fa21906826e7d4', '634e751b57fa21906826e7d7', '634e751b57fa21906826e7d8', '634e754b57fa21906826e7db', '634e754b57fa21906826e7dc', '634e76a957fa21906826e7df', '634e76a957fa21906826e7e0', '634e76c557fa21906826e7e3', '634e76c557fa21906826e7e4', '634e789457fa21906826e7e7', '634e789457fa21906826e7e8', '634e87195c36316672d9ebb7', '634e87195c36316672d9ebb8', '634e8723423442b170a77291', '634e8723423442b170a77292', '634e8787966700a3e4433b8c', '634e8787966700a3e4433b8d', '634e8925fd8e54e2e956d02e', '634e8925fd8e54e2e956d02f', '634e8927701a1c4974f433f5', '634e8927701a1c4974f433f6', '634e89a8881636cdbe484336', '634e89a8881636cdbe484337', '634e8aa027f7ff9213e232db', '634e8aa027f7ff9213e232dc', '634e8ab027f7ff9213e232df', '634e8ab027f7ff9213e232e0']\n"
     ]
    }
   ],
   "source": [
    "import sys\n",
    "sys.path.append('.')\n",
    "from dms3 import *\n",
    "import dms3\n",
    "\n",
    "pprint(dms_api_schema_get())\n",
    "print(schema)\n",
    "\n",
    "##\n",
    "## insert something into the DB\n",
    "##\n",
    "CRVE_ID=dms_api_object_post('ConcreteRVE',\n",
    "    {\n",
    "        'origin':{'value':[1,2,3],'unit':'mm'},\n",
    "        'size':{'value':[1,2,3],'unit':'km'},\n",
    "        'materials':[\n",
    "            {'name':'mat1','props':{'origin':'CZ'}},\n",
    "            {'name':'mat2','props':{'origin':'DE'}}\n",
    "        ],\n",
    "         'ct':{'id':'bar','image':bytes(range(70,80))}\n",
    "    }\n",
    ")\n",
    "print(CRVE_ID)\n",
    "\n",
    "\n",
    "print(dms3._resolve_path_head(root=('ConcreteRVE',CRVE_ID),path='materials[0].name'))\n",
    "print(dms3._resolve_path_head(root=('ConcreteRVE',CRVE_ID),path=''))\n",
    "pprint(dms_api_object_get(root=('ConcreteRVE',CRVE_ID),path='materials[1]',max_level=1))\n",
    "pprint(dms_api_attr_get(root=('ConcreteRVE',CRVE_ID),path='materials[1].name'))\n",
    "pprint(dms_api_attr_get(root=('ConcreteRVE',CRVE_ID),path='origin'))\n",
    "\n",
    "print(dms_api_type_list())\n",
    "for T in dms_api_type_list():\n",
    "    print(T,dms_api_object_list(T))\n"
   ]
  },
  {
   "cell_type": "code",
   "execution_count": null,
   "id": "a99b507b-a8f9-4bd0-977c-cc97d0d57c35",
   "metadata": {},
   "outputs": [],
   "source": []
  }
 ],
 "metadata": {
  "kernelspec": {
   "display_name": "Python 3 (ipykernel)",
   "language": "python",
   "name": "python3"
  },
  "language_info": {
   "codemirror_mode": {
    "name": "ipython",
    "version": 3
   },
   "file_extension": ".py",
   "mimetype": "text/x-python",
   "name": "python",
   "nbconvert_exporter": "python",
   "pygments_lexer": "ipython3",
   "version": "3.10.6"
  }
 },
 "nbformat": 4,
 "nbformat_minor": 5
}
