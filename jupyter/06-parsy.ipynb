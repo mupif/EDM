{
 "cells": [
  {
   "cell_type": "code",
   "execution_count": 15,
   "id": "c5e77e7e-8b38-4d46-b3d0-301196d54ae1",
   "metadata": {},
   "outputs": [],
   "source": [
    "import parsy as P\n",
    "dec=P.regex('[+-]?[0-9]+').map(int).desc('decimal integer')\n",
    "none=P.string('').result(None)\n",
    "dec_none=(dec|none).map(lambda x: None if x is None else int(x)).desc('possibly-empty-decimal')\n",
    "colon=P.string(':')\n",
    "comma=P.string(',')\n",
    "dot=P.string('.')\n",
    "lbrack,rbrack=P.string('['),P.string(']')\n",
    "pipe=P.string('|')\n",
    "# print(multiindex.parse(','))\n",
    "\n",
    "balanced=P.forward_declaration()\n",
    "bracketed=P.seq(lbrack,balanced,rbrack).concat()\n",
    "plain=P.regex('[^[\\]]+')\n",
    "balanced.become((plain|bracketed).many().concat().desc('balanced-expression'))\n",
    "\n",
    "index=dec.map(int).tag('index')\n",
    "#multiindex=((dec.sep_by(comma,min=1))<<(none|comma)).tag('multiindex')\n",
    "multiindex=((dec<<comma).times(1,float('inf'))+dec.times(0,1)).tag('multiindex')\n",
    "slice=(dec_none).sep_by(colon,min=2,max=3).tag('slice')\n",
    "filter=((pipe>>balanced)|none).tag('filter')\n",
    "subscript=(lbrack>>P.seq(slice|multiindex|index,filter)<<rbrack).combine_dict(dict)\n",
    "\n",
    "attr=P.regex('[a-zA-Z_][a-zA-Z_0-9]*')\n",
    "\n",
    "def mk_dotpath(vv):\n",
    "    return [{'attr':v['attr']}|(dict(v['sub'] if v['sub'] is not None else {})) for v in vv]\n",
    "\n",
    "\n",
    "dotpath=P.seq(attr=attr,sub=subscript|none).sep_by(dot).map(mk_dotpath)\n",
    "# expr_py.parse('sdfsd[1232][23423]')"
   ]
  },
  {
   "cell_type": "code",
   "execution_count": 16,
   "id": "a89ebf7d-ca48-4bbc-9b0c-1fd65ec81db8",
   "metadata": {},
   "outputs": [
    {
     "name": "stdout",
     "output_type": "stream",
     "text": [
      "[1232] → {'index': 1232, 'filter': None}\n",
      "[] → ERROR: expected one of ':', 'decimal integer' at 0:1\n",
      "[1,] → {'multiindex': [1], 'filter': None}\n",
      "[,] → ERROR: expected one of ':', 'decimal integer' at 0:1\n",
      "[:] → {'slice': [None, None], 'filter': None}\n",
      "[::] → {'slice': [None, None, None], 'filter': None}\n",
      "[1:2:3] → {'slice': [1, 2, 3], 'filter': None}\n",
      "[::-1] → {'slice': [None, None, -1], 'filter': None}\n",
      "[::|F] → {'slice': [None, None, None], 'filter': 'F'}\n",
      "[1,2] → {'multiindex': [1, 2], 'filter': None}\n"
     ]
    }
   ],
   "source": [
    "#multiindex.parse('13,')\n",
    "#slice.parse('::2')\n",
    "for s in ['[1232]','[]','[1,]','[,]','[:]','[::]','[1:2:3]','[::-1]','[::|F]','[1,2]']:\n",
    "    try: p=subscript.parse(s)\n",
    "    except P.ParseError as e: p=f'ERROR: {str(e)}'\n",
    "    print(f'{s} → {p}')"
   ]
  },
  {
   "cell_type": "code",
   "execution_count": 17,
   "id": "3f940ddc-cca1-487a-82d5-6b8548c986bb",
   "metadata": {},
   "outputs": [
    {
     "data": {
      "text/plain": [
       "[{'attr': 'aa', 'index': 1, 'filter': None}]"
      ]
     },
     "execution_count": 17,
     "metadata": {},
     "output_type": "execute_result"
    }
   ],
   "source": [
    "# dotpath.parse('la[1].bbb[2|sdfsd[3]]')\n",
    "#dotpath.parse('aa')\n",
    "dotpath.parse('aa[1]')\n",
    "#dotpath.parse('aa[1,2,3|f(ryx).ssd[12]].bb[::|a<44]')"
   ]
  },
  {
   "cell_type": "code",
   "execution_count": 9,
   "id": "97116a94-0119-43f7-87b1-58966cb767b8",
   "metadata": {},
   "outputs": [
    {
     "data": {
      "text/plain": [
       "<re.Match object; span=(0, 5), match='asdas'>"
      ]
     },
     "execution_count": 9,
     "metadata": {},
     "output_type": "execute_result"
    }
   ],
   "source": [
    "import re\n",
    "re.match('[^][]+','asdas[')"
   ]
  },
  {
   "cell_type": "code",
   "execution_count": null,
   "id": "733240f8-c393-4f99-9959-0e2fe2cbf732",
   "metadata": {},
   "outputs": [],
   "source": []
  }
 ],
 "metadata": {
  "kernelspec": {
   "display_name": "Python 3 (ipykernel)",
   "language": "python",
   "name": "python3"
  },
  "language_info": {
   "codemirror_mode": {
    "name": "ipython",
    "version": 3
   },
   "file_extension": ".py",
   "mimetype": "text/x-python",
   "name": "python",
   "nbconvert_exporter": "python",
   "pygments_lexer": "ipython3",
   "version": "3.10.6"
  }
 },
 "nbformat": 4,
 "nbformat_minor": 5
}
